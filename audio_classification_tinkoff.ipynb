{
 "cells": [
  {
   "cell_type": "markdown",
   "id": "d8f7508b",
   "metadata": {
    "papermill": {
     "duration": 0.004767,
     "end_time": "2022-12-26T09:08:31.277055",
     "exception": false,
     "start_time": "2022-12-26T09:08:31.272288",
     "status": "completed"
    },
    "tags": []
   },
   "source": [
    "# Задание\n",
    "\n",
    "Вам предлагается решить задачу от kaggle\n",
    "https://www.kaggle.com/competitions/silero-audio-classifier/overview\n",
    "\n",
    "\n",
    "От вас не требуется решить задачу с максимальным качеством. В этом задании мы хотим посмотреть на ваши умения:\n",
    "\n",
    "1. писать чистый код\n",
    "2. оставлять комментарии к своему коду (на русском или английском)\n",
    "3. создавать и обучать нейронные сети\n",
    "\n",
    "Для решения здачи можете выбрать один из фреймворков для обучение нейронных сетей  **pytorch** или **tensorflow**\n",
    "\n",
    "В качестве решения вам нужно послать:\n",
    "\n",
    "1. Jupyter notebook, который мы сможем запустить без ошибок и получить обученную модель изменив только пути до данных. **Важно** зафиксируйте random_state при семплировании данных в решении\n",
    "2. Вашу обученную модель, сохраненную в любом удобном для вас формате\n",
    "\n",
    "\n"
   ]
  },
  {
   "cell_type": "markdown",
   "id": "0256e3e8",
   "metadata": {},
   "source": [
    "## Посмотрите на данные, с которыми вам предстоит работать\n",
    "\n",
    "Можете взять код из kaggle соревнования или написать свой"
   ]
  },
  {
   "cell_type": "markdown",
   "id": "24c1df31",
   "metadata": {},
   "source": [
    "## Спроектируйте модель\n",
    "\n",
    "Не используйте pretrained модели. Создайте архитектуру модели с нуля. Можете использовать любые слои в любом количестве"
   ]
  },
  {
   "cell_type": "markdown",
   "id": "c04ba868",
   "metadata": {},
   "source": [
    "Импортируем необходимые библиотеки"
   ]
  },
  {
   "cell_type": "code",
   "execution_count": 1,
   "id": "5896b14d",
   "metadata": {
    "execution": {
     "iopub.execute_input": "2022-12-26T09:08:31.289991Z",
     "iopub.status.busy": "2022-12-26T09:08:31.289064Z",
     "iopub.status.idle": "2022-12-26T09:08:35.147682Z",
     "shell.execute_reply": "2022-12-26T09:08:35.146647Z"
    },
    "papermill": {
     "duration": 3.868177,
     "end_time": "2022-12-26T09:08:35.150245",
     "exception": false,
     "start_time": "2022-12-26T09:08:31.282068",
     "status": "completed"
    },
    "tags": []
   },
   "outputs": [],
   "source": [
    "import os\n",
    "import torch\n",
    "import librosa\n",
    "import torchaudio\n",
    "import numpy as np\n",
    "import pandas as pd\n",
    "from typing import Any, List, Tuple\n",
    "from glob import glob\n",
    "from tqdm import tqdm\n",
    "from torch import nn, Tensor\n",
    "from pathlib import Path\n",
    "from librosa import display\n",
    "import matplotlib.pyplot as plt\n",
    "from scipy.io.wavfile import read\n",
    "from IPython.display import HTML, Audio, display_html, clear_output\n",
    "from sklearn.metrics import accuracy_score\n",
    "from sklearn.model_selection import train_test_split\n",
    "from torch.utils.data import DataLoader, Dataset, TensorDataset"
   ]
  },
  {
   "cell_type": "code",
   "execution_count": 2,
   "id": "a90a7230",
   "metadata": {
    "execution": {
     "iopub.execute_input": "2022-12-26T09:08:35.163522Z",
     "iopub.status.busy": "2022-12-26T09:08:35.161846Z",
     "iopub.status.idle": "2022-12-26T09:08:35.171112Z",
     "shell.execute_reply": "2022-12-26T09:08:35.170180Z"
    },
    "papermill": {
     "duration": 0.017436,
     "end_time": "2022-12-26T09:08:35.172998",
     "exception": false,
     "start_time": "2022-12-26T09:08:35.155562",
     "status": "completed"
    },
    "tags": []
   },
   "outputs": [
    {
     "data": {
      "text/plain": [
       "('1.11.0', '0.9.2', '0.11.0')"
      ]
     },
     "execution_count": 2,
     "metadata": {},
     "output_type": "execute_result"
    }
   ],
   "source": [
    "torch.__version__, librosa.__version__, torchaudio.__version__"
   ]
  },
  {
   "cell_type": "code",
   "execution_count": 3,
   "id": "2895f6f2",
   "metadata": {
    "execution": {
     "iopub.execute_input": "2022-12-26T09:08:35.184423Z",
     "iopub.status.busy": "2022-12-26T09:08:35.184134Z",
     "iopub.status.idle": "2022-12-26T09:08:35.188308Z",
     "shell.execute_reply": "2022-12-26T09:08:35.187375Z"
    },
    "papermill": {
     "duration": 0.012063,
     "end_time": "2022-12-26T09:08:35.190249",
     "exception": false,
     "start_time": "2022-12-26T09:08:35.178186",
     "status": "completed"
    },
    "tags": []
   },
   "outputs": [],
   "source": [
    "label_dict = {\n",
    "    'speech': 0,\n",
    "    'music': 1,\n",
    "    'noise': 2    \n",
    "}"
   ]
  },
  {
   "cell_type": "code",
   "execution_count": 4,
   "id": "3f9eee3d",
   "metadata": {
    "execution": {
     "iopub.execute_input": "2022-12-26T09:08:35.201925Z",
     "iopub.status.busy": "2022-12-26T09:08:35.201283Z",
     "iopub.status.idle": "2022-12-26T09:08:35.205109Z",
     "shell.execute_reply": "2022-12-26T09:08:35.204257Z"
    },
    "papermill": {
     "duration": 0.01161,
     "end_time": "2022-12-26T09:08:35.207023",
     "exception": false,
     "start_time": "2022-12-26T09:08:35.195413",
     "status": "completed"
    },
    "tags": []
   },
   "outputs": [],
   "source": [
    "data_folder = '../../kaggle/input/silero-audio-classifier'"
   ]
  },
  {
   "cell_type": "code",
   "execution_count": 5,
   "id": "d4b0a7a6",
   "metadata": {
    "execution": {
     "iopub.execute_input": "2022-12-26T09:08:35.219130Z",
     "iopub.status.busy": "2022-12-26T09:08:35.218257Z",
     "iopub.status.idle": "2022-12-26T09:08:35.224830Z",
     "shell.execute_reply": "2022-12-26T09:08:35.224029Z"
    },
    "papermill": {
     "duration": 0.014632,
     "end_time": "2022-12-26T09:08:35.226733",
     "exception": false,
     "start_time": "2022-12-26T09:08:35.212101",
     "status": "completed"
    },
    "tags": []
   },
   "outputs": [],
   "source": [
    "def read_audio(path) -> np.ndarray:\n",
    "    sr, wav = read(path)\n",
    "    assert sr == 16000\n",
    "    assert len(wav) == 16000 * 3\n",
    "    assert len(wav.shape) == 1\n",
    "    return wav\n",
    "\n",
    "\n",
    "def read_audio_norm(path) -> np.ndarray:\n",
    "    wav = read_audio(path)\n",
    "    abs_max = np.abs(wav).max()\n",
    "    wav = wav.astype('float32')\n",
    "    if abs_max > 0:\n",
    "        wav *= 1 / abs_max\n",
    "    return wav"
   ]
  },
  {
   "cell_type": "markdown",
   "id": "e4049c8a",
   "metadata": {
    "papermill": {
     "duration": 0.004857,
     "end_time": "2022-12-26T09:08:35.236555",
     "exception": false,
     "start_time": "2022-12-26T09:08:35.231698",
     "status": "completed"
    },
    "tags": []
   },
   "source": [
    "Прочитаем наши данные"
   ]
  },
  {
   "cell_type": "code",
   "execution_count": 6,
   "id": "1fbe9a5d",
   "metadata": {
    "execution": {
     "iopub.execute_input": "2022-12-26T09:08:35.250098Z",
     "iopub.status.busy": "2022-12-26T09:08:35.248749Z",
     "iopub.status.idle": "2022-12-26T09:08:53.502309Z",
     "shell.execute_reply": "2022-12-26T09:08:53.501277Z"
    },
    "papermill": {
     "duration": 18.261688,
     "end_time": "2022-12-26T09:08:53.504656",
     "exception": false,
     "start_time": "2022-12-26T09:08:35.242968",
     "status": "completed"
    },
    "tags": []
   },
   "outputs": [],
   "source": [
    "train_path = Path(data_folder) / 'train'\n",
    "df = pd.read_csv(Path(data_folder) / 'train.csv')\n",
    "df['target'] = df['label'].apply(lambda x: label_dict.get(x, -1))\n",
    "\n",
    "assert set([os.path.relpath(path, data_folder + '/train') \n",
    "            for path \n",
    "            in glob(f'{train_path}/train/*/*.wav')]) == set(df.wav_path.values)\n",
    "\n",
    "df['wav_path'] = df['wav_path'].apply(lambda x: str(Path(data_folder) / Path('train') / x))"
   ]
  },
  {
   "cell_type": "markdown",
   "id": "7384a764",
   "metadata": {
    "papermill": {
     "duration": 0.005027,
     "end_time": "2022-12-26T09:08:53.515077",
     "exception": false,
     "start_time": "2022-12-26T09:08:53.510050",
     "status": "completed"
    },
    "tags": []
   },
   "source": [
    "Создадим удобный класс нашего датасета"
   ]
  },
  {
   "cell_type": "code",
   "execution_count": 7,
   "id": "5e29da48",
   "metadata": {
    "execution": {
     "iopub.execute_input": "2022-12-26T09:08:53.526459Z",
     "iopub.status.busy": "2022-12-26T09:08:53.526134Z",
     "iopub.status.idle": "2022-12-26T09:08:53.533763Z",
     "shell.execute_reply": "2022-12-26T09:08:53.532723Z"
    },
    "papermill": {
     "duration": 0.015867,
     "end_time": "2022-12-26T09:08:53.535960",
     "exception": false,
     "start_time": "2022-12-26T09:08:53.520093",
     "status": "completed"
    },
    "tags": []
   },
   "outputs": [],
   "source": [
    "class CustomDataset(Dataset):\n",
    "    \"\"\"\n",
    "    Dataset for sampling audio \n",
    "    Attributes:\n",
    "        sample_df: Dataframe with labels and paths to audio.\n",
    "        transform: If True apply MelSpectrogram to raw audio.\n",
    "    \"\"\"\n",
    "    def __init__(self, sample_df, transform=False) -> None:\n",
    "        self.sample_df = sample_df\n",
    "        self.transform = transform\n",
    "        \n",
    "    def __len__(self) -> int:\n",
    "        return len(self.sample_df)\n",
    "    \n",
    "    def __getitem__(self, idx) -> Tuple[Tensor, Tensor]:\n",
    "        audio = read_audio(self.sample_df.wav_path[idx])\n",
    "        class_id = self.sample_df.target[idx]\n",
    "        input_audio = torch.from_numpy(audio).float()\n",
    "        class_id = torch.tensor(class_id)\n",
    "        if self.transform:\n",
    "            mel_spec = torchaudio.transforms.MelSpectrogram(sample_rate=16000, n_fft=1024,win_length=1024,\n",
    "                                                            hop_length=256, n_mels=64, center=True)\n",
    "            input_audio = mel_spec(input_audio)\n",
    "            input_audio = input_audio.clamp(min=1e-5).log()\n",
    "        input_audio = input_audio.unsqueeze(0)\n",
    "        return input_audio, class_id"
   ]
  },
  {
   "cell_type": "markdown",
   "id": "827267e1",
   "metadata": {},
   "source": [
    "Возьмем лишь часть данных для более быстрого обучения и создадим даталоадеры"
   ]
  },
  {
   "cell_type": "code",
   "execution_count": 8,
   "id": "d39c7eda",
   "metadata": {
    "execution": {
     "iopub.execute_input": "2022-12-26T09:08:53.547074Z",
     "iopub.status.busy": "2022-12-26T09:08:53.546818Z",
     "iopub.status.idle": "2022-12-26T09:08:53.656982Z",
     "shell.execute_reply": "2022-12-26T09:08:53.656010Z"
    },
    "papermill": {
     "duration": 0.118688,
     "end_time": "2022-12-26T09:08:53.659658",
     "exception": false,
     "start_time": "2022-12-26T09:08:53.540970",
     "status": "completed"
    },
    "tags": []
   },
   "outputs": [],
   "source": [
    "df_sample = df.sample(n=50000, random_state=1)\n",
    "train_df, val_df = train_test_split(df_sample, test_size=0.15, shuffle=True, random_state=1, stratify=df_sample.target)\n",
    "train_df = train_df.reset_index()\n",
    "val_df = val_df.reset_index()\n",
    "\n",
    "train_dataset = CustomDataset(train_df, transform=False)\n",
    "val_dataset = CustomDataset(val_df, transform=False)\n",
    "\n",
    "train_dataloader = DataLoader(\n",
    "    train_dataset,\n",
    "    batch_size=64,\n",
    "    pin_memory=True,\n",
    "    num_workers=2,\n",
    "    shuffle=False\n",
    ")\n",
    "val_dataloader = DataLoader(\n",
    "    val_dataset, \n",
    "    batch_size=64, \n",
    "    pin_memory=True, \n",
    "    num_workers=2, \n",
    "    shuffle=False\n",
    ")\n",
    "\n",
    "dataloaders = {'train': train_dataloader, 'val': val_dataloader}\n",
    "device = torch.device(\"cuda:0\") if torch.cuda.is_available() else torch.device(\"cpu\")"
   ]
  },
  {
   "cell_type": "code",
   "execution_count": 1,
   "id": "6fbab25b",
   "metadata": {
    "execution": {
     "iopub.execute_input": "2022-12-26T09:08:53.671770Z",
     "iopub.status.busy": "2022-12-26T09:08:53.671475Z",
     "iopub.status.idle": "2022-12-26T09:08:53.679438Z",
     "shell.execute_reply": "2022-12-26T09:08:53.678395Z"
    },
    "papermill": {
     "duration": 0.016151,
     "end_time": "2022-12-26T09:08:53.681380",
     "exception": false,
     "start_time": "2022-12-26T09:08:53.665229",
     "status": "completed"
    },
    "tags": []
   },
   "outputs": [],
   "source": [
    "def show_progress(t, train_loss, val_loss, train_acc, val_acc) -> None:\n",
    "    \"\"\"\n",
    "    Function for logging metrics on the plot updating it every epoch.\n",
    "    \"\"\"\n",
    "    clear_output(wait=True)\n",
    "    fig, (ax1, ax2) = plt.subplots(1, 2, constrained_layout=True, figsize=(20, 5))\n",
    "    fig.suptitle(f'Epoch {t:3.3f}', fontsize=16)\n",
    "    ax1.set_title('loss')\n",
    "    ax1.set_xlabel('time (epochs)')\n",
    "    ax1.set_ylabel('loss')\n",
    "    \n",
    "    ax1.plot(range(t), train_loss, c='darkblue', lw=3, label='train')\n",
    "    ax1.plot(range(t), val_loss, c='green', marker='o', lw=5, label='valid')\n",
    "    ax1.legend()\n",
    "    ax2.set_title('accuracy')\n",
    "    ax2.set_xlabel('time (epochs)')\n",
    "    ax2.set_ylabel('accuracy')\n",
    "    \n",
    "    ax2.plot(range(t), train_acc, c='darkblue', lw=3, label='train')\n",
    "    ax2.plot(range(t), val_acc, c='green', marker='o', lw=5, label='valid')\n",
    "    ax2.legend()\n",
    "    plt.show()"
   ]
  },
  {
   "cell_type": "markdown",
   "id": "751f1565",
   "metadata": {},
   "source": [
    "## Создайте метод train\n",
    "\n",
    "Постарайтесь логировать как можно больше полезной информации в процессе обучения"
   ]
  },
  {
   "cell_type": "code",
   "execution_count": 10,
   "id": "ee0ca994",
   "metadata": {
    "execution": {
     "iopub.execute_input": "2022-12-26T09:08:53.692956Z",
     "iopub.status.busy": "2022-12-26T09:08:53.692680Z",
     "iopub.status.idle": "2022-12-26T09:08:53.708238Z",
     "shell.execute_reply": "2022-12-26T09:08:53.707362Z"
    },
    "papermill": {
     "duration": 0.023856,
     "end_time": "2022-12-26T09:08:53.710372",
     "exception": false,
     "start_time": "2022-12-26T09:08:53.686516",
     "status": "completed"
    },
    "tags": []
   },
   "outputs": [],
   "source": [
    "def run_epoch(model, dataloader, criterion, device='cpu', optimizer=None,\n",
    "              do_train=True, scheduler=None) -> Tuple[Tensor, Tensor, List]:\n",
    "    loss_log, preds, gts = [], [], []\n",
    "    model.train(do_train)\n",
    "\n",
    "    for x_batch, y_batch in tqdm(dataloader, position=0):\n",
    "        data = x_batch.to(device)\n",
    "        target = y_batch.to(device)\n",
    "        \n",
    "        if do_train:\n",
    "            optimizer.zero_grad()\n",
    "\n",
    "        with torch.inference_mode(not do_train):\n",
    "            output = model(data)\n",
    "            loss = criterion(output, target).cpu()\n",
    "            \n",
    "        preds.append(output.detach().cpu())\n",
    "        gts.append(y_batch.detach().cpu())\n",
    "        loss_log.append(loss.item())\n",
    "        \n",
    "        if not do_train:\n",
    "            continue\n",
    "        \n",
    "        loss.backward()\n",
    "        optimizer.step()\n",
    "\n",
    "        if scheduler:\n",
    "            scheduler.step()\n",
    "    return torch.cat(gts), torch.cat(preds), loss_log\n",
    "    \n",
    "def train(model, dataloaders, optimizer, criterion, n_epochs, device='cpu', scheduler=None) -> None:\n",
    "    prefix = 'Full val - {}'\n",
    "    train_loss_history, val_loss_history, train_acc_history, val_acc_history = [], [], [], []\n",
    "    for epoch in tqdm(range(n_epochs), position=0):\n",
    "        print(\"Epoch {0} of {1}\".format(epoch, n_epochs))\n",
    "\n",
    "        train_targets, train_preds, train_loss, = run_epoch(\n",
    "            model=model,\n",
    "            dataloader=dataloaders['train'],\n",
    "            criterion=criterion, \n",
    "            optimizer=optimizer,\n",
    "            do_train=True,\n",
    "            scheduler=scheduler,\n",
    "            device=device,\n",
    "        )\n",
    "        train_score = accuracy_score(train_targets, np.argmax(train_preds, axis=1))\n",
    "\n",
    "        val_targets, val_preds, val_loss = run_epoch(\n",
    "            model=model,\n",
    "            dataloader=dataloaders['val'],\n",
    "            criterion=criterion, \n",
    "            optimizer=None,\n",
    "            do_train=False,\n",
    "            scheduler=None,\n",
    "            device=device,\n",
    "        )\n",
    "        val_score = accuracy_score(val_targets, np.argmax(val_preds, axis=1))\n",
    "            \n",
    "        train_loss_history.append(np.array(train_loss).mean())\n",
    "        val_loss_history.append(np.array(val_loss).mean())\n",
    "        train_acc_history.append(train_score)\n",
    "        val_acc_history.append(val_score)\n",
    "        \n",
    "        show_progress(epoch + 1, train_loss_history, val_loss_history, train_acc_history, val_acc_history)\n",
    "\n",
    "def inference(model, dataloader, device='cpu') -> Tensor:\n",
    "    preds = []\n",
    "    model.eval()\n",
    "    for x_batch in tqdm(dataloader):\n",
    "        data = x_batch[0].to(device)\n",
    "        with torch.inference_mode():\n",
    "            output = model(data)\n",
    "            preds.append(output.detach().cpu())\n",
    "            \n",
    "    return torch.cat(preds)"
   ]
  },
  {
   "cell_type": "code",
   "execution_count": 11,
   "id": "4304280f",
   "metadata": {
    "execution": {
     "iopub.execute_input": "2022-12-26T09:08:53.721836Z",
     "iopub.status.busy": "2022-12-26T09:08:53.721576Z",
     "iopub.status.idle": "2022-12-26T09:08:53.728610Z",
     "shell.execute_reply": "2022-12-26T09:08:53.727648Z"
    },
    "papermill": {
     "duration": 0.015096,
     "end_time": "2022-12-26T09:08:53.730511",
     "exception": false,
     "start_time": "2022-12-26T09:08:53.715415",
     "status": "completed"
    },
    "tags": []
   },
   "outputs": [],
   "source": [
    "class ConvBlock(nn.Module):\n",
    "    def __init__(self, in_channels, out_channels, conv_size, pool_size, p=0.1, last_block=False) -> None:\n",
    "        super().__init__()\n",
    "        self.conv1 = nn.Conv1d(in_channels=in_channels, out_channels=out_channels, kernel_size=conv_size)\n",
    "        self.conv2 = nn.Conv1d(in_channels=out_channels, out_channels=out_channels, kernel_size=conv_size)\n",
    "        self.relu = nn.ReLU()\n",
    "        self.pooling = nn.MaxPool1d(kernel_size=pool_size)\n",
    "        self.dropout = nn.Dropout(p=p)\n",
    "        self.last_block = last_block\n",
    "        \n",
    "    def forward(self, x) -> Any:\n",
    "        x = self.conv1(x)\n",
    "        \n",
    "        x = self.relu(x)\n",
    "        x = self.conv2(x)\n",
    "        x = self.relu(x)\n",
    "        if self.last_block:\n",
    "            x, _ = torch.max(x, dim=2)\n",
    "        else:\n",
    "            x = self.pooling(x)\n",
    "        out = self.dropout(x)\n",
    "        return out"
   ]
  },
  {
   "cell_type": "markdown",
   "id": "8301b143",
   "metadata": {},
   "source": [
    "Для начала обучим модель на сырых аудио"
   ]
  },
  {
   "cell_type": "code",
   "execution_count": 12,
   "id": "d030c9ad",
   "metadata": {
    "execution": {
     "iopub.execute_input": "2022-12-26T09:08:53.742330Z",
     "iopub.status.busy": "2022-12-26T09:08:53.741557Z",
     "iopub.status.idle": "2022-12-26T09:08:53.749408Z",
     "shell.execute_reply": "2022-12-26T09:08:53.748525Z"
    },
    "papermill": {
     "duration": 0.015623,
     "end_time": "2022-12-26T09:08:53.751340",
     "exception": false,
     "start_time": "2022-12-26T09:08:53.735717",
     "status": "completed"
    },
    "tags": []
   },
   "outputs": [],
   "source": [
    "class SimpleWaVNet(nn.Module):\n",
    "    def __init__(self) -> None:\n",
    "        super(SimpleWaVNet, self).__init__()\n",
    "        \n",
    "        self.block1 = ConvBlock(in_channels=1, out_channels=16, conv_size=9, pool_size=16)\n",
    "        self.block2 = ConvBlock(in_channels=16, out_channels=32, conv_size=3, pool_size=4)\n",
    "        self.block3 = ConvBlock(in_channels=32, out_channels=64, conv_size=3, pool_size=4)\n",
    "        self.block4 = ConvBlock(in_channels=64, out_channels=256, conv_size=3, pool_size=4, last_block=True)\n",
    "        self.relu = nn.ReLU()\n",
    "        self.linear1 = nn.Linear(256, 64)\n",
    "        self.linear2 = nn.Linear(64, 3)\n",
    "        \n",
    "    def forward(self, x) -> Any:\n",
    "        x = self.block1(x)\n",
    "        x = self.block2(x)\n",
    "        x = self.block3(x)\n",
    "        x = self.block4(x)\n",
    "        x = self.linear1(x)\n",
    "        x = self.relu(x)\n",
    "        out = self.linear2(x)\n",
    "        return out"
   ]
  },
  {
   "cell_type": "code",
   "execution_count": 13,
   "id": "e142a341",
   "metadata": {
    "execution": {
     "iopub.execute_input": "2022-12-26T09:08:53.762610Z",
     "iopub.status.busy": "2022-12-26T09:08:53.762354Z",
     "iopub.status.idle": "2022-12-26T09:24:17.578349Z",
     "shell.execute_reply": "2022-12-26T09:24:17.577163Z"
    },
    "papermill": {
     "duration": 923.824721,
     "end_time": "2022-12-26T09:24:17.581201",
     "exception": false,
     "start_time": "2022-12-26T09:08:53.756480",
     "status": "completed"
    },
    "scrolled": true,
    "tags": []
   },
   "outputs": [
    {
     "data": {
      "image/png": "[encoded data removed]",
      "text/plain": [
       "<Figure size 1440x360 with 2 Axes>"
      ]
     },
     "metadata": {
      "needs_background": "light"
     },
     "output_type": "display_data"
    },
    {
     "name": "stderr",
     "output_type": "stream",
     "text": [
      "100%|██████████| 20/20 [15:20<00:00, 46.03s/it]\n"
     ]
    }
   ],
   "source": [
    "n_epochs = 20\n",
    "model1d = SimpleWaVNet()\n",
    "model1d.to(device)\n",
    "optimizer = torch.optim.Adam(model1d.parameters(), lr=1e-3, weight_decay=1e-4)\n",
    "criterion = nn.CrossEntropyLoss()\n",
    "train(model1d, dataloaders, optimizer, criterion, n_epochs=n_epochs, device=device)"
   ]
  },
  {
   "cell_type": "markdown",
   "id": "f290c1cc",
   "metadata": {},
   "source": [
    "Доля правильных ответов порядка 0.95, неплохо, но попробуем улучшить результат, обучив модель на Мел-Спектрограммах"
   ]
  },
  {
   "cell_type": "code",
   "execution_count": 14,
   "id": "3c33e4e8",
   "metadata": {
    "execution": {
     "iopub.execute_input": "2022-12-26T09:24:17.595716Z",
     "iopub.status.busy": "2022-12-26T09:24:17.594943Z",
     "iopub.status.idle": "2022-12-26T09:24:17.606250Z",
     "shell.execute_reply": "2022-12-26T09:24:17.605272Z"
    },
    "papermill": {
     "duration": 0.021072,
     "end_time": "2022-12-26T09:24:17.608430",
     "exception": false,
     "start_time": "2022-12-26T09:24:17.587358",
     "status": "completed"
    },
    "tags": []
   },
   "outputs": [],
   "source": [
    "class MelSpecNet(nn.Module):\n",
    "    def __init__(self) -> None:\n",
    "        super(MelSpecNet, self).__init__()\n",
    "\n",
    "        self.features = nn.Sequential(\n",
    "            nn.Conv2d(1, 64, (11, 11), (4, 4), (2, 2)),\n",
    "            nn.ReLU(True),\n",
    "            nn.MaxPool2d((3, 3), (2, 2)),\n",
    "\n",
    "            nn.Conv2d(64, 192, (5, 5), (1, 1), (2, 2)),\n",
    "            nn.ReLU(True),\n",
    "            nn.MaxPool2d((3, 3), (2, 2)),\n",
    "\n",
    "            nn.Conv2d(192, 384, (3, 3), (1, 1), (1, 1)),\n",
    "            nn.ReLU(True),\n",
    "            nn.Conv2d(384, 256, (3, 3), (1, 1), (1, 1)),\n",
    "            nn.ReLU(True),\n",
    "            nn.Conv2d(256, 256, (3, 3), (1, 1), (1, 1)),\n",
    "            nn.ReLU(True),\n",
    "            nn.MaxPool2d((3, 3), (2, 2)),\n",
    "        )\n",
    "\n",
    "        self.avgpool = nn.AdaptiveAvgPool2d((6, 6))\n",
    "\n",
    "        self.classifier = nn.Sequential(\n",
    "            nn.Dropout(0.2),\n",
    "            nn.Linear(256 * 6 * 6, 4096),\n",
    "            nn.ReLU(True),\n",
    "            nn.Dropout(0.2),\n",
    "            nn.Linear(4096, 128),\n",
    "            nn.ReLU(True),\n",
    "            nn.Linear(128, 3),\n",
    "        )\n",
    "\n",
    "    def forward(self, x) -> Any:\n",
    "        out = self.features(x)\n",
    "        out = self.avgpool(out)\n",
    "        out = torch.flatten(out, 1)\n",
    "        out = self.classifier(out)\n",
    "        return out\n"
   ]
  },
  {
   "cell_type": "code",
   "execution_count": 15,
   "id": "f5fa2e93",
   "metadata": {
    "execution": {
     "iopub.execute_input": "2022-12-26T09:24:17.621872Z",
     "iopub.status.busy": "2022-12-26T09:24:17.621562Z",
     "iopub.status.idle": "2022-12-26T09:24:17.628149Z",
     "shell.execute_reply": "2022-12-26T09:24:17.626951Z"
    },
    "papermill": {
     "duration": 0.015797,
     "end_time": "2022-12-26T09:24:17.630362",
     "exception": false,
     "start_time": "2022-12-26T09:24:17.614565",
     "status": "completed"
    },
    "tags": []
   },
   "outputs": [],
   "source": [
    "train_dataset = CustomDataset(train_df, transform=True)\n",
    "val_dataset = CustomDataset(val_df, transform=True)\n",
    "\n",
    "train_dataloader = DataLoader(\n",
    "    train_dataset,\n",
    "    batch_size=64,\n",
    "    pin_memory=True,\n",
    "    num_workers=2,\n",
    "    shuffle=False\n",
    ")\n",
    "val_dataloader = DataLoader(\n",
    "    val_dataset, \n",
    "    batch_size=64, \n",
    "    pin_memory=True, \n",
    "    num_workers=2, \n",
    "    shuffle=False\n",
    ")\n",
    "\n",
    "dataloaders = {'train': train_dataloader, 'val': val_dataloader}"
   ]
  },
  {
   "cell_type": "code",
   "execution_count": 16,
   "id": "5c0c4d0e",
   "metadata": {
    "execution": {
     "iopub.execute_input": "2022-12-26T09:24:17.643901Z",
     "iopub.status.busy": "2022-12-26T09:24:17.643117Z",
     "iopub.status.idle": "2022-12-26T09:31:44.447452Z",
     "shell.execute_reply": "2022-12-26T09:31:44.445888Z"
    },
    "papermill": {
     "duration": 446.814712,
     "end_time": "2022-12-26T09:31:44.451082",
     "exception": false,
     "start_time": "2022-12-26T09:24:17.636370",
     "status": "completed"
    },
    "scrolled": true,
    "tags": []
   },
   "outputs": [
    {
     "data": {
      "image/png": "[encoded data removed]",
      "text/plain": [
       "<Figure size 1440x360 with 2 Axes>"
      ]
     },
     "metadata": {
      "needs_background": "light"
     },
     "output_type": "display_data"
    },
    {
     "name": "stderr",
     "output_type": "stream",
     "text": [
      "100%|██████████| 5/5 [07:26<00:00, 89.28s/it]\n"
     ]
    }
   ],
   "source": [
    "n_epochs = 5\n",
    "model2d = MelSpecNet()\n",
    "model2d.to(device)\n",
    "optimizer = torch.optim.Adam(model2d.parameters(), lr=5e-5, weight_decay=1e-3)\n",
    "criterion = nn.CrossEntropyLoss()\n",
    "train(model2d, dataloaders, optimizer, criterion, n_epochs=n_epochs, device=device)"
   ]
  },
  {
   "cell_type": "markdown",
   "id": "3293c458",
   "metadata": {},
   "source": [
    "Качество 0.96, отлично, но попробуем построить модель серьезнее, например, WideResNet"
   ]
  },
  {
   "cell_type": "code",
   "execution_count": 17,
   "id": "3d71569d",
   "metadata": {
    "execution": {
     "iopub.execute_input": "2022-12-26T09:31:44.466953Z",
     "iopub.status.busy": "2022-12-26T09:31:44.466652Z",
     "iopub.status.idle": "2022-12-26T09:31:44.484894Z",
     "shell.execute_reply": "2022-12-26T09:31:44.484042Z"
    },
    "papermill": {
     "duration": 0.02881,
     "end_time": "2022-12-26T09:31:44.487079",
     "exception": false,
     "start_time": "2022-12-26T09:31:44.458269",
     "status": "completed"
    },
    "tags": []
   },
   "outputs": [],
   "source": [
    "def conv3x3(in_planes, out_planes, stride=1) -> nn.Conv2d:\n",
    "    \"\"\"3x3 convolution with padding\"\"\"\n",
    "    return nn.Conv2d(in_planes, out_planes, kernel_size=3, stride=stride,\n",
    "                    padding=1, bias=False)\n",
    "\n",
    "\n",
    "def conv1x1(in_planes, out_planes, stride=1) -> nn.Conv2d:\n",
    "    \"\"\"1x1 convolution\"\"\"\n",
    "    return nn.Conv2d(in_planes, out_planes, kernel_size=1, stride=stride,\n",
    "                    bias=False)\n",
    "\n",
    "\n",
    "class BasicBlock(nn.Module):\n",
    "    def __init__(self, inplanes, planes, dropout, stride=1) -> None:\n",
    "        super(BasicBlock, self).__init__()\n",
    "        self.bn1 = nn.BatchNorm2d(inplanes)\n",
    "        self.conv1 = conv3x3(inplanes, planes, stride)\n",
    "        self.dropout = nn.Dropout(dropout)\n",
    "        self.bn2 = nn.BatchNorm2d(planes)\n",
    "        self.conv2 = conv3x3(planes, planes)\n",
    "        self.relu = nn.ReLU(inplace=True)\n",
    "        if stride != 1 or inplanes != planes:\n",
    "            self.shortcut = conv1x1(inplanes, planes, stride)\n",
    "            self.use_conv1x1 = True\n",
    "        else:\n",
    "            self.use_conv1x1 = False\n",
    "\n",
    "    def forward(self, x) -> Any:\n",
    "        out = self.bn1(x)\n",
    "        out = self.relu(out)\n",
    "\n",
    "        if self.use_conv1x1:\n",
    "            shortcut = self.shortcut(out)\n",
    "        else:\n",
    "            shortcut = x\n",
    "\n",
    "        out = self.conv1(out)\n",
    "\n",
    "        out = self.bn2(out)\n",
    "        out = self.relu(out)\n",
    "        out = self.dropout(out)\n",
    "        out = self.conv2(out)\n",
    "\n",
    "        out += shortcut\n",
    "\n",
    "        return out\n",
    "\n",
    "\n",
    "class WideResNet(nn.Module):\n",
    "    def __init__(self, depth, width, num_classes=10, dropout=0.3) -> None:\n",
    "        super(WideResNet, self).__init__()\n",
    "\n",
    "        layer = (depth - 4) // 6\n",
    "\n",
    "        self.inplanes = 16\n",
    "        self.conv = conv3x3(1, 16)\n",
    "        self.layer1 = self._make_layer(16 * width, layer, dropout)\n",
    "        self.layer2 = self._make_layer(32 * width, layer, dropout, stride=2)\n",
    "        self.layer3 = self._make_layer(64 * width, layer, dropout, stride=2)\n",
    "        self.bn = nn.BatchNorm2d(64 * width)\n",
    "        self.relu = nn.ReLU(inplace=True)\n",
    "        self.avgpool = nn.AdaptiveAvgPool2d(1)\n",
    "        self.fc = nn.Linear(64 * width, num_classes)\n",
    "\n",
    "        for m in self.modules():\n",
    "            if isinstance(m, nn.Conv2d):\n",
    "                m.weight.data = nn.init.kaiming_normal_(m.weight.data, mode='fan_out', nonlinearity='relu')\n",
    "\n",
    "    def _make_layer(self, planes, blocks, dropout, stride=1) -> nn.Sequential:\n",
    "        layers = []\n",
    "        for i in range(blocks):\n",
    "            layers.append(BasicBlock(self.inplanes, planes, dropout, stride if i == 0 else 1))\n",
    "            self.inplanes = planes\n",
    "\n",
    "        return nn.Sequential(*layers)\n",
    "\n",
    "    def forward(self, x) -> Any:\n",
    "        x = self.conv(x)\n",
    "\n",
    "        x = self.layer1(x)\n",
    "        x = self.layer2(x)\n",
    "        x = self.layer3(x)\n",
    "\n",
    "        x = self.bn(x)\n",
    "        x = self.relu(x)\n",
    "        x = self.avgpool(x)\n",
    "        x = torch.flatten(x, 1)\n",
    "        x = self.fc(x)\n",
    "\n",
    "        return x"
   ]
  },
  {
   "cell_type": "code",
   "execution_count": 18,
   "id": "9abf8ec8",
   "metadata": {
    "execution": {
     "iopub.execute_input": "2022-12-26T09:31:44.501849Z",
     "iopub.status.busy": "2022-12-26T09:31:44.501574Z",
     "iopub.status.idle": "2022-12-26T09:31:44.507242Z",
     "shell.execute_reply": "2022-12-26T09:31:44.506191Z"
    },
    "papermill": {
     "duration": 0.015443,
     "end_time": "2022-12-26T09:31:44.509274",
     "exception": false,
     "start_time": "2022-12-26T09:31:44.493831",
     "status": "completed"
    },
    "tags": []
   },
   "outputs": [],
   "source": [
    "train_dataset = CustomDataset(train_df, transform=True)\n",
    "val_dataset = CustomDataset(val_df, transform=True)\n",
    "\n",
    "train_dataloader = DataLoader(\n",
    "    train_dataset,\n",
    "    batch_size=64,\n",
    "    pin_memory=True,\n",
    "    num_workers=2,\n",
    "    shuffle=False\n",
    ")\n",
    "val_dataloader = DataLoader(\n",
    "    val_dataset, \n",
    "    batch_size=64, \n",
    "    pin_memory=True, \n",
    "    num_workers=2, \n",
    "    shuffle=False\n",
    ")\n",
    "\n",
    "dataloaders = {'train': train_dataloader, 'val': val_dataloader}"
   ]
  },
  {
   "cell_type": "code",
   "execution_count": 19,
   "id": "3fc25eed",
   "metadata": {
    "execution": {
     "iopub.execute_input": "2022-12-26T09:31:44.524331Z",
     "iopub.status.busy": "2022-12-26T09:31:44.523504Z",
     "iopub.status.idle": "2022-12-26T10:02:08.518507Z",
     "shell.execute_reply": "2022-12-26T10:02:08.516757Z"
    },
    "papermill": {
     "duration": 1824.005464,
     "end_time": "2022-12-26T10:02:08.521400",
     "exception": false,
     "start_time": "2022-12-26T09:31:44.515936",
     "status": "completed"
    },
    "scrolled": true,
    "tags": []
   },
   "outputs": [
    {
     "data": {
      "image/png": "[encoded data removed]",
      "text/plain": [
       "<Figure size 1440x360 with 2 Axes>"
      ]
     },
     "metadata": {
      "needs_background": "light"
     },
     "output_type": "display_data"
    },
    {
     "name": "stderr",
     "output_type": "stream",
     "text": [
      "100%|██████████| 10/10 [30:23<00:00, 182.40s/it]\n"
     ]
    }
   ],
   "source": [
    "n_epochs = 10\n",
    "model2d_modified = WideResNet(22, 2, num_classes=3, dropout=0.2)\n",
    "model2d_modified.to(device)\n",
    "optimizer = torch.optim.Adam(model2d_modified.parameters(), lr=5e-5, weight_decay=1e-3)\n",
    "criterion = nn.CrossEntropyLoss()\n",
    "train(model2d_modified, dataloaders, optimizer, criterion, n_epochs=n_epochs, device=device)"
   ]
  },
  {
   "cell_type": "markdown",
   "id": "fdb07951",
   "metadata": {},
   "source": [
    "Прекрасно, качество 0.98 куда лучше смотрится. Пожалуй, остановимся на этом. Сохраним наши модели"
   ]
  },
  {
   "cell_type": "code",
   "execution_count": 20,
   "id": "c26a490d",
   "metadata": {
    "execution": {
     "iopub.execute_input": "2022-12-26T10:02:08.538671Z",
     "iopub.status.busy": "2022-12-26T10:02:08.538348Z",
     "iopub.status.idle": "2022-12-26T10:02:09.034240Z",
     "shell.execute_reply": "2022-12-26T10:02:09.033262Z"
    },
    "papermill": {
     "duration": 0.507445,
     "end_time": "2022-12-26T10:02:09.036949",
     "exception": false,
     "start_time": "2022-12-26T10:02:08.529504",
     "status": "completed"
    },
    "tags": []
   },
   "outputs": [],
   "source": [
    "torch.save(model1d.state_dict(), 'model1d.pt')\n",
    "torch.save(model2d.state_dict(), 'model2d.pt')\n",
    "torch.save(model2d_modified.state_dict(), 'model2d_modified.pt')"
   ]
  },
  {
   "cell_type": "markdown",
   "id": "462c663d",
   "metadata": {},
   "source": [
    "Ссылка на модели: https://drive.google.com/drive/folders/1yP7AEu6OqiF5jUjVnnVbWHJg8OMM0bjM?usp=share_link"
   ]
  },
  {
   "cell_type": "markdown",
   "id": "d001a16a",
   "metadata": {},
   "source": [
    "Если очень хочется, то можно отдельно провалидировать какую-нибудь модель, например так"
   ]
  },
  {
   "cell_type": "code",
   "execution_count": null,
   "id": "664cf161",
   "metadata": {},
   "outputs": [],
   "source": [
    "# preds = inference(model1d, val_dataloader, device=device)\n",
    "# true = np.array([])\n",
    "# for X, y in val_dataloader:\n",
    "#     true = np.concatenate((true, y.flatten().numpy()), axis=None)\n",
    "# accuracy_score(true, np.argmax(preds, axis=1))"
   ]
  }
 ],
 "metadata": {
  "kernelspec": {
   "display_name": "Python 3 (ipykernel)",
   "language": "python",
   "name": "python3"
  },
  "language_info": {
   "codemirror_mode": {
    "name": "ipython",
    "version": 3
   },
   "file_extension": ".py",
   "mimetype": "text/x-python",
   "name": "python",
   "nbconvert_exporter": "python",
   "pygments_lexer": "ipython3",
   "version": "3.9.13"
  },
  "papermill": {
   "default_parameters": {},
   "duration": 3228.19795,
   "end_time": "2022-12-26T10:02:11.744621",
   "environment_variables": {},
   "exception": null,
   "input_path": "__notebook__.ipynb",
   "output_path": "__notebook__.ipynb",
   "parameters": {},
   "start_time": "2022-12-26T09:08:23.546671",
   "version": "2.3.4"
  }
 },
 "nbformat": 4,
 "nbformat_minor": 5
}
